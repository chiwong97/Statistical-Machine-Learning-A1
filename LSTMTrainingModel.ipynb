{
 "cells": [
  {
   "cell_type": "code",
   "execution_count": 24,
   "id": "197a97ef",
   "metadata": {},
   "outputs": [],
   "source": [
    "import csv\n",
    "import numpy\n",
    "import os\n",
    "import pandas as pd\n",
    "from numpy import mean\n",
    "from numpy import std\n",
    "from numpy import dstack\n",
    "from pandas import read_csv\n",
    "from tensorflow.keras.models import Sequential\n",
    "from tensorflow.keras.layers import Dense\n",
    "from tensorflow.keras.layers import Flatten\n",
    "from tensorflow.keras.layers import Dropout\n",
    "from tensorflow.keras.layers import LSTM\n",
    "from tensorflow.keras.layers import TimeDistributed\n",
    "# from tensorflow.keras.layers.convolutional import Conv1D\n",
    "# from tensorflow.keras.layers.convolutional import MaxPooling1D\n",
    "# from tensorflow.keras.layers import ConvLSTM2D\n",
    "from tensorflow.keras.utils import to_categorical\n",
    "from tensorflow.keras.models import load_model\n",
    "from sklearn.model_selection import train_test_split\n",
    "from imblearn.over_sampling import RandomOverSampler"
   ]
  },
  {
   "cell_type": "code",
   "execution_count": 25,
   "id": "45bfdb7c",
   "metadata": {},
   "outputs": [],
   "source": [
    "train_original = pd.read_csv(\"train.csv\", header = None)\n",
    "test = pd.read_csv(\"test.csv\", header = None)\n",
    "# Splitting training data into train and validation set\n",
    "X = train_original.iloc[:, :961]\n",
    "y = train_original.iloc[:,961] # also the class labels of the training set (unmodified)"
   ]
  },
  {
   "cell_type": "code",
   "execution_count": 18,
   "id": "610f6658",
   "metadata": {},
   "outputs": [],
   "source": [
    "def loadTrainingData():    \n",
    "    reader = csv.reader(open(\"train.csv\", \"r\"), delimiter=\",\")\n",
    "    dataList = list(reader)\n",
    "    OriginalDataTable = numpy.array(dataList).astype(\"float\")\n",
    "    \n",
    "    XdataLoaded = loadDataInto3DArray(OriginalDataTable)\n",
    "    YdataLoaded = numpy.transpose(OriginalDataTable[:, 961])\n",
    "    \n",
    "    X_train, X_test, y_train, y_test = train_test_split(\n",
    "    XdataLoaded, YdataLoaded, test_size=0.33, random_state=42)\n",
    "    \n",
    "    # zero-offset class values\n",
    "    y_train = y_train - 1\n",
    "    y_test = y_test - 1\n",
    "    # one hot encode y\n",
    "    y_train = to_categorical(y_train)\n",
    "    y_test = to_categorical(y_test)\n",
    "    \n",
    "    print(X_train.shape)\n",
    "    print(X_test.shape)\n",
    "    print(y_train.shape)\n",
    "    print(y_test.shape)\n",
    "    \n",
    "    #print(y_train)\n",
    "        \n",
    "    return X_train, X_test, y_train, y_test"
   ]
  },
  {
   "cell_type": "code",
   "execution_count": 26,
   "id": "f395f4ce",
   "metadata": {},
   "outputs": [],
   "source": [
    "def randomOversampling():\n",
    "    ros = RandomOverSampler(random_state = 42)\n",
    "    X_ros, y_ros = ros.fit_resample(X,y)\n",
    "    train_X_ros, validation_X_ros, train_y_ros, validation_y_ros = train_test_split(X_ros, y_ros, test_size = 0.2, random_state = 1, stratify = y_ros)\n",
    "\n",
    "    return train_X_ros, validation_X_ros, train_y_ros, validation_y_ros\n",
    "    "
   ]
  },
  {
   "cell_type": "code",
   "execution_count": 20,
   "id": "a608c12c",
   "metadata": {},
   "outputs": [],
   "source": [
    "def loadPredictionData():    \n",
    "    reader = csv.reader(open(\"test.csv\", \"r\"), delimiter=\",\")\n",
    "    dataList = list(reader)\n",
    "    OriginalDataTable = numpy.array(dataList).astype(\"float\")\n",
    "    \n",
    "    XdataLoaded = loadDataInto3DArray(OriginalDataTable)\n",
    "    \n",
    "    #print(XdataLoaded.shape)\n",
    "        \n",
    "    return XdataLoaded"
   ]
  },
  {
   "cell_type": "code",
   "execution_count": 21,
   "id": "2eb53dbb",
   "metadata": {},
   "outputs": [],
   "source": [
    "def loadDataInto3DArray(OriginalDataTable):\n",
    "    XdataLoaded = list()\n",
    "    for x in range(0, 60):\n",
    "        Xarray = OriginalDataTable[:,(1+x):(902+x):60]\n",
    "        XdataLoaded.append(Xarray)\n",
    "    \n",
    "    XdataLoaded = dstack(XdataLoaded)\n",
    "    \n",
    "    return XdataLoaded\n",
    "    "
   ]
  },
  {
   "cell_type": "code",
   "execution_count": 22,
   "id": "5f23f0bd",
   "metadata": {},
   "outputs": [],
   "source": [
    "# fit and evaluate a model\n",
    "def evaluate_model(trainX, testX, trainy,  testy):\n",
    "    verbose, epochs, batch_size = 0, 15, 64\n",
    "    n_timesteps, n_features, n_outputs = trainX.shape[1], trainX.shape[2], trainy.shape[1]\n",
    "    model = Sequential()\n",
    "    model.add(LSTM(300, return_sequences=True, input_shape=(n_timesteps,n_features)))\n",
    "    model.add(LSTM(300))\n",
    "    model.add(Dropout(0.5))\n",
    "    model.add(Dense(100, activation='relu'))\n",
    "    model.add(Dense(n_outputs, activation='softmax'))\n",
    "    model.compile(loss='categorical_crossentropy', optimizer='adam', metrics=['accuracy'])\n",
    "    # fit network\n",
    "    model.fit(trainX, trainy, epochs=epochs, batch_size=batch_size, verbose=verbose)\n",
    "    # evaluate model\n",
    "    _, accuracy = model.evaluate(testX, testy, batch_size=batch_size, verbose=0)\n",
    "    model.save('lstm_model.h5')\n",
    "    return accuracy"
   ]
  },
  {
   "cell_type": "code",
   "execution_count": 53,
   "id": "7b7a75c7",
   "metadata": {},
   "outputs": [],
   "source": [
    "def evaluate_model_WithConvLSTM(trainX, testX, trainy,  testy):\n",
    "    # define model\n",
    "    verbose, epochs, batch_size = 0, 25, 64\n",
    "    n_timesteps, n_features, n_outputs = trainX.shape[1], trainX.shape[2], trainy.shape[1]\n",
    "    # reshape into subsequences (samples, time steps, rows, cols, channels)\n",
    "    n_steps, n_length = 2, 8\n",
    "    trainX = trainX.reshape((trainX.shape[0], n_steps, 1, n_length, n_features))\n",
    "    testX = testX.reshape((testX.shape[0], n_steps, 1, n_length, n_features))\n",
    "    # define model\n",
    "    model = Sequential()\n",
    "    model.add(ConvLSTM2D(filters=64, kernel_size=(1,3), activation='relu', input_shape=(n_steps, 1, n_length, n_features)))\n",
    "    model.add(Dropout(0.5))\n",
    "    model.add(Flatten())\n",
    "    model.add(Dense(100, activation='relu'))\n",
    "    model.add(Dense(n_outputs, activation='softmax'))\n",
    "    model.compile(loss='categorical_crossentropy', optimizer='adam', metrics=['accuracy'])\n",
    "    # fit network\n",
    "    model.fit(trainX, trainy, epochs=epochs, batch_size=batch_size, verbose=verbose)\n",
    "    # evaluate model\n",
    "    _, accuracy = model.evaluate(testX, testy, batch_size=batch_size, verbose=0)\n",
    "    model.save('lstm_modelConcLSTM.h5')\n",
    "    return accuracy"
   ]
  },
  {
   "cell_type": "code",
   "execution_count": 9,
   "id": "92bb45ed",
   "metadata": {},
   "outputs": [],
   "source": [
    "def makePredictionsWithLSTM():\n",
    "    X = loadPredictionData()\n",
    "    model = load_model('lstm_model.h5')\n",
    "    # make predictions\n",
    "    yHat = model.predict(X, verbose=0)\n",
    "    yHat = numpy.argmax(yHat, axis=1)\n",
    "    yHat = yHat + 1\n",
    "    print(yHat.shape)\n",
    "    numpy.savetxt(\"predictionsWithLSTM.csv\", numpy.dstack((numpy.arange(0, yHat.size),yHat))[0],\"%d,%d\",header=\"Id,Category\", comments='')"
   ]
  },
  {
   "cell_type": "code",
   "execution_count": 55,
   "id": "8204c090",
   "metadata": {},
   "outputs": [],
   "source": [
    "def makePredictionsWithConvLSTM():\n",
    "    X = loadPredictionData()\n",
    "    model = load_model('lstm_model.h5')\n",
    "    # make predictions\n",
    "    yHat = model.predict(X, verbose=0)\n",
    "    yHat = numpy.argmax(yHat, axis=1)\n",
    "    yHat = yHat + 1\n",
    "    print(yHat.shape)\n",
    "    numpy.savetxt(\"predictionsWithConvLSTM.csv\", numpy.dstack((numpy.arange(0, yHat.size),yHat))[0],\"%d,%d\",header=\"Id,Category\", comments='')"
   ]
  },
  {
   "cell_type": "code",
   "execution_count": 14,
   "id": "7d19e1e1",
   "metadata": {},
   "outputs": [],
   "source": [
    "def startTheClassification():\n",
    "    X_train, X_test, y_train, y_test = randomOversampling()\n",
    "    score = evaluate_model(X_train, X_test, y_train, y_test)\n",
    "    print(score)"
   ]
  },
  {
   "cell_type": "code",
   "execution_count": 57,
   "id": "86d66b7d",
   "metadata": {},
   "outputs": [],
   "source": [
    "def startTheClassificationWithConvLSTM():\n",
    "    X_train, X_test, y_train, y_test = loadTrainingData()\n",
    "    score = evaluate_model_WithConvLSTM(X_train, X_test, y_train, y_test)\n",
    "    print(score)"
   ]
  },
  {
   "cell_type": "code",
   "execution_count": null,
   "id": "804037e7",
   "metadata": {},
   "outputs": [],
   "source": []
  },
  {
   "cell_type": "code",
   "execution_count": null,
   "id": "4adaac17",
   "metadata": {},
   "outputs": [],
   "source": []
  },
  {
   "cell_type": "code",
   "execution_count": null,
   "id": "f9cbc7cc",
   "metadata": {},
   "outputs": [],
   "source": []
  },
  {
   "cell_type": "code",
   "execution_count": 27,
   "id": "0762b447",
   "metadata": {},
   "outputs": [
    {
     "ename": "IndexError",
     "evalue": "tuple index out of range",
     "output_type": "error",
     "traceback": [
      "\u001b[0;31m---------------------------------------------------------------------------\u001b[0m",
      "\u001b[0;31mIndexError\u001b[0m                                Traceback (most recent call last)",
      "\u001b[0;32m<ipython-input-27-0f8ce54dc017>\u001b[0m in \u001b[0;36m<module>\u001b[0;34m\u001b[0m\n\u001b[0;32m----> 1\u001b[0;31m \u001b[0mstartTheClassification\u001b[0m\u001b[0;34m(\u001b[0m\u001b[0;34m)\u001b[0m\u001b[0;34m\u001b[0m\u001b[0;34m\u001b[0m\u001b[0m\n\u001b[0m",
      "\u001b[0;32m<ipython-input-14-1a40c301379f>\u001b[0m in \u001b[0;36mstartTheClassification\u001b[0;34m()\u001b[0m\n\u001b[1;32m      1\u001b[0m \u001b[0;32mdef\u001b[0m \u001b[0mstartTheClassification\u001b[0m\u001b[0;34m(\u001b[0m\u001b[0;34m)\u001b[0m\u001b[0;34m:\u001b[0m\u001b[0;34m\u001b[0m\u001b[0;34m\u001b[0m\u001b[0m\n\u001b[1;32m      2\u001b[0m     \u001b[0mX_train\u001b[0m\u001b[0;34m,\u001b[0m \u001b[0mX_test\u001b[0m\u001b[0;34m,\u001b[0m \u001b[0my_train\u001b[0m\u001b[0;34m,\u001b[0m \u001b[0my_test\u001b[0m \u001b[0;34m=\u001b[0m \u001b[0mrandomOversampling\u001b[0m\u001b[0;34m(\u001b[0m\u001b[0;34m)\u001b[0m\u001b[0;34m\u001b[0m\u001b[0;34m\u001b[0m\u001b[0m\n\u001b[0;32m----> 3\u001b[0;31m     \u001b[0mscore\u001b[0m \u001b[0;34m=\u001b[0m \u001b[0mevaluate_model\u001b[0m\u001b[0;34m(\u001b[0m\u001b[0mX_train\u001b[0m\u001b[0;34m,\u001b[0m \u001b[0mX_test\u001b[0m\u001b[0;34m,\u001b[0m \u001b[0my_train\u001b[0m\u001b[0;34m,\u001b[0m \u001b[0my_test\u001b[0m\u001b[0;34m)\u001b[0m\u001b[0;34m\u001b[0m\u001b[0;34m\u001b[0m\u001b[0m\n\u001b[0m\u001b[1;32m      4\u001b[0m     \u001b[0mprint\u001b[0m\u001b[0;34m(\u001b[0m\u001b[0mscore\u001b[0m\u001b[0;34m)\u001b[0m\u001b[0;34m\u001b[0m\u001b[0;34m\u001b[0m\u001b[0m\n",
      "\u001b[0;32m<ipython-input-22-b9467a98eddf>\u001b[0m in \u001b[0;36mevaluate_model\u001b[0;34m(trainX, testX, trainy, testy)\u001b[0m\n\u001b[1;32m      2\u001b[0m \u001b[0;32mdef\u001b[0m \u001b[0mevaluate_model\u001b[0m\u001b[0;34m(\u001b[0m\u001b[0mtrainX\u001b[0m\u001b[0;34m,\u001b[0m \u001b[0mtestX\u001b[0m\u001b[0;34m,\u001b[0m \u001b[0mtrainy\u001b[0m\u001b[0;34m,\u001b[0m  \u001b[0mtesty\u001b[0m\u001b[0;34m)\u001b[0m\u001b[0;34m:\u001b[0m\u001b[0;34m\u001b[0m\u001b[0;34m\u001b[0m\u001b[0m\n\u001b[1;32m      3\u001b[0m     \u001b[0mverbose\u001b[0m\u001b[0;34m,\u001b[0m \u001b[0mepochs\u001b[0m\u001b[0;34m,\u001b[0m \u001b[0mbatch_size\u001b[0m \u001b[0;34m=\u001b[0m \u001b[0;36m0\u001b[0m\u001b[0;34m,\u001b[0m \u001b[0;36m15\u001b[0m\u001b[0;34m,\u001b[0m \u001b[0;36m64\u001b[0m\u001b[0;34m\u001b[0m\u001b[0;34m\u001b[0m\u001b[0m\n\u001b[0;32m----> 4\u001b[0;31m     \u001b[0mn_timesteps\u001b[0m\u001b[0;34m,\u001b[0m \u001b[0mn_features\u001b[0m\u001b[0;34m,\u001b[0m \u001b[0mn_outputs\u001b[0m \u001b[0;34m=\u001b[0m \u001b[0mtrainX\u001b[0m\u001b[0;34m.\u001b[0m\u001b[0mshape\u001b[0m\u001b[0;34m[\u001b[0m\u001b[0;36m1\u001b[0m\u001b[0;34m]\u001b[0m\u001b[0;34m,\u001b[0m \u001b[0mtrainX\u001b[0m\u001b[0;34m.\u001b[0m\u001b[0mshape\u001b[0m\u001b[0;34m[\u001b[0m\u001b[0;36m2\u001b[0m\u001b[0;34m]\u001b[0m\u001b[0;34m,\u001b[0m \u001b[0mtrainy\u001b[0m\u001b[0;34m.\u001b[0m\u001b[0mshape\u001b[0m\u001b[0;34m[\u001b[0m\u001b[0;36m1\u001b[0m\u001b[0;34m]\u001b[0m\u001b[0;34m\u001b[0m\u001b[0;34m\u001b[0m\u001b[0m\n\u001b[0m\u001b[1;32m      5\u001b[0m     \u001b[0mmodel\u001b[0m \u001b[0;34m=\u001b[0m \u001b[0mSequential\u001b[0m\u001b[0;34m(\u001b[0m\u001b[0;34m)\u001b[0m\u001b[0;34m\u001b[0m\u001b[0;34m\u001b[0m\u001b[0m\n\u001b[1;32m      6\u001b[0m     \u001b[0mmodel\u001b[0m\u001b[0;34m.\u001b[0m\u001b[0madd\u001b[0m\u001b[0;34m(\u001b[0m\u001b[0mLSTM\u001b[0m\u001b[0;34m(\u001b[0m\u001b[0;36m300\u001b[0m\u001b[0;34m,\u001b[0m \u001b[0mreturn_sequences\u001b[0m\u001b[0;34m=\u001b[0m\u001b[0;32mTrue\u001b[0m\u001b[0;34m,\u001b[0m \u001b[0minput_shape\u001b[0m\u001b[0;34m=\u001b[0m\u001b[0;34m(\u001b[0m\u001b[0mn_timesteps\u001b[0m\u001b[0;34m,\u001b[0m\u001b[0mn_features\u001b[0m\u001b[0;34m)\u001b[0m\u001b[0;34m)\u001b[0m\u001b[0;34m)\u001b[0m\u001b[0;34m\u001b[0m\u001b[0;34m\u001b[0m\u001b[0m\n",
      "\u001b[0;31mIndexError\u001b[0m: tuple index out of range"
     ]
    }
   ],
   "source": [
    "startTheClassification()"
   ]
  },
  {
   "cell_type": "code",
   "execution_count": 58,
   "id": "9e9f4343",
   "metadata": {},
   "outputs": [
    {
     "name": "stdout",
     "output_type": "stream",
     "text": [
      "(6289, 16, 60)\n",
      "(3099, 16, 60)\n",
      "(6289, 49)\n",
      "(3099, 49)\n",
      "0.2491126169876423\n"
     ]
    }
   ],
   "source": [
    "startTheClassificationWithConvLSTM()"
   ]
  },
  {
   "cell_type": "code",
   "execution_count": null,
   "id": "8081544a",
   "metadata": {},
   "outputs": [],
   "source": [
    "makePredictionsWithLSTM()"
   ]
  },
  {
   "cell_type": "code",
   "execution_count": null,
   "id": "2ca04ddf",
   "metadata": {},
   "outputs": [],
   "source": [
    "makePredictionsWithConvLSTM()"
   ]
  }
 ],
 "metadata": {
  "kernelspec": {
   "display_name": "Python 3",
   "language": "python",
   "name": "python3"
  },
  "language_info": {
   "codemirror_mode": {
    "name": "ipython",
    "version": 3
   },
   "file_extension": ".py",
   "mimetype": "text/x-python",
   "name": "python",
   "nbconvert_exporter": "python",
   "pygments_lexer": "ipython3",
   "version": "3.8.8"
  }
 },
 "nbformat": 4,
 "nbformat_minor": 5
}
